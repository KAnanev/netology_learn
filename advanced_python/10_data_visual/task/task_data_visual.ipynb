{
 "cells": [
  {
   "cell_type": "code",
   "execution_count": 47,
   "metadata": {
    "collapsed": true
   },
   "outputs": [],
   "source": [
    "import pandas as pd\n",
    "import matplotlib.pyplot as plt"
   ]
  },
  {
   "cell_type": "code",
   "execution_count": 48,
   "outputs": [],
   "source": [
    "my_df = pd.read_csv('ru_videos.csv', sep=',', engine='python')\n"
   ],
   "metadata": {
    "collapsed": false,
    "pycharm": {
     "name": "#%%\n"
    }
   }
  },
  {
   "cell_type": "code",
   "execution_count": 75,
   "outputs": [
    {
     "data": {
      "text/plain": "          video_id trending_date  \\\n0      gDuslQ9avLc      17.14.11   \n1      AOCJIFEA_jE      17.14.11   \n2      VAWNQDgwwOM      17.14.11   \n3      gknkFwKQfHg      17.14.11   \n4      3sYvZcwzZr8      17.14.11   \n...            ...           ...   \n40734  OMmR9THjVKM      18.14.06   \n40735  tX7p7NtNVDE      18.14.06   \n40736  KAyj5Xm1C64      18.14.06   \n40737  4PiSLIrsSiY      18.14.06   \n40738  Ehy5foVfKOE      18.14.06   \n\n                                                   title   channel_title  \\\n0                        Захар и Полина учатся экономить       Т—Ж БОГАЧ   \n1                       Биржа Мемов #29. Большой выпуск    Druzhko Show   \n2                           ХАЙП КЭМП - СВОЙ СРЕДИ ЧУЖИХ            Юлик   \n3                             Сочная кесадилья с курицей        Hochland   \n4                  КЛИПЫ РОДИТЕЛЕЙ НА ШКОЛЬНЫЙ ВЫПУСКНОЙ        Совергон   \n...                                                  ...             ...   \n40734  У меня СДВГ! (Story booth на русском) Русская ...    Pastime Time   \n40735                    Мои Детские Травмы 2 (анимация)          CaGArt   \n40736  [ENG SUB] BTS PROM PARTY 2018 Intro + 2nd Gran...    DaisyxBTS 07   \n40737  ОБЗОР ВАННОЙ КОМНАТЫ🛁/ТУАЛЕТНОЙ КОМНАТЫ🚽 + ДЕК...  Ксюша Лебедева   \n40738                    Плохой сигнал. Стань человеком!      Tubus Show   \n\n       category_id              publish_time  \\\n0               22  2017-11-13T09:09:31.000Z   \n1               22  2017-11-13T17:32:11.000Z   \n2               24  2017-11-13T16:11:31.000Z   \n3               22  2017-11-13T06:51:10.000Z   \n4               24  2017-11-13T16:52:36.000Z   \n...            ...                       ...   \n40734           22  2018-06-13T13:47:01.000Z   \n40735           23  2018-06-12T09:38:38.000Z   \n40736           24  2018-06-13T12:51:23.000Z   \n40737           22  2018-06-13T00:23:33.000Z   \n40738           29  2018-06-13T09:50:09.000Z   \n\n                                                    tags   views  likes  \\\n0      захар и полина|\"учимся экономить\"|\"копить день...   62408    334   \n1      биржа мемов|\"лев шагинян\"|\"мемы\"|\"пикчи\"|\"друж...  330043  43841   \n2      юмор|\"комедия\"|\"влог\"|\"блог\"|\"смешно\"|\"смешное...  424596  49854   \n3      хохланд|\"сыр\"|\"рецепты\"|\"как приготовить\"|\"вку...  112851   3566   \n4      Совергон|\"Sovergon\"|\"клипы\"|\"родители\"|\"школа\"...  243469  36216   \n...                                                  ...     ...    ...   \n40734  story booth на русском|\"story booth перевод\"|\"...  129488   5893   \n40735  кагарт|\"каги\"|\"цагарт\"|\"гагарт\"|\"какарт\"|\"милш...   99163   4659   \n40736                                             [none]  449611  24808   \n40737  рум тур ванной комнаты|\"room tour bathroom\"|\"д...   14225    793   \n40738  плохой сигнал|\"тубус шоу\"|\"reebok\"|\"стань чело...   52340   7708   \n\n       dislikes  comment_count  \\\n0           190             50   \n1          2244           2977   \n2           714           2944   \n3           122             80   \n4           631           1692   \n...         ...            ...   \n40734       164            990   \n40735       337            692   \n40736        93            974   \n40737        39            209   \n40738       133           1819   \n\n                                       thumbnail_link  comments_disabled  \\\n0      https://i.ytimg.com/vi/gDuslQ9avLc/default.jpg              False   \n1      https://i.ytimg.com/vi/AOCJIFEA_jE/default.jpg              False   \n2      https://i.ytimg.com/vi/VAWNQDgwwOM/default.jpg              False   \n3      https://i.ytimg.com/vi/gknkFwKQfHg/default.jpg              False   \n4      https://i.ytimg.com/vi/3sYvZcwzZr8/default.jpg              False   \n...                                               ...                ...   \n40734  https://i.ytimg.com/vi/OMmR9THjVKM/default.jpg              False   \n40735  https://i.ytimg.com/vi/tX7p7NtNVDE/default.jpg              False   \n40736  https://i.ytimg.com/vi/KAyj5Xm1C64/default.jpg              False   \n40737  https://i.ytimg.com/vi/4PiSLIrsSiY/default.jpg              False   \n40738  https://i.ytimg.com/vi/Ehy5foVfKOE/default.jpg              False   \n\n       ratings_disabled  video_error_or_removed  \\\n0                 False                   False   \n1                 False                   False   \n2                 False                   False   \n3                 False                   False   \n4                 False                   False   \n...                 ...                     ...   \n40734             False                   False   \n40735             False                   False   \n40736             False                   False   \n40737             False                   False   \n40738             False                   False   \n\n                                             description  \n0      Знакомьтесь, это Захар и Полина. Вместе с ними...  \n1      В 29 выпуске Дружко Шоу Сергей сказал, что Бир...  \n2      http://kapitany.ru/!Yulik.cap - Факультет #Кап...  \n3                *** как готовить ресторанные блюда дома  \n4      ❏ КОНКУРС КАПИТАНЫ: http://kapitany.ru/!Soverg...  \n...                                                  ...  \n40734  Котики в Blade and Soul - https://bit.ly/2JoOq...  \n40735  Мои Детские Травмы 2 (анимация)           ▶️Ск...  \n40736  ***I do NOT own anything. Just want to share t...  \n40737  Обзор ванной комнаты, туалетной комнаты+ декор...  \n40738  В 90-х годах прошлого века произошло коренное ...  \n\n[40739 rows x 16 columns]",
      "text/html": "<div>\n<style scoped>\n    .dataframe tbody tr th:only-of-type {\n        vertical-align: middle;\n    }\n\n    .dataframe tbody tr th {\n        vertical-align: top;\n    }\n\n    .dataframe thead th {\n        text-align: right;\n    }\n</style>\n<table border=\"1\" class=\"dataframe\">\n  <thead>\n    <tr style=\"text-align: right;\">\n      <th></th>\n      <th>video_id</th>\n      <th>trending_date</th>\n      <th>title</th>\n      <th>channel_title</th>\n      <th>category_id</th>\n      <th>publish_time</th>\n      <th>tags</th>\n      <th>views</th>\n      <th>likes</th>\n      <th>dislikes</th>\n      <th>comment_count</th>\n      <th>thumbnail_link</th>\n      <th>comments_disabled</th>\n      <th>ratings_disabled</th>\n      <th>video_error_or_removed</th>\n      <th>description</th>\n    </tr>\n  </thead>\n  <tbody>\n    <tr>\n      <th>0</th>\n      <td>gDuslQ9avLc</td>\n      <td>17.14.11</td>\n      <td>Захар и Полина учатся экономить</td>\n      <td>Т—Ж БОГАЧ</td>\n      <td>22</td>\n      <td>2017-11-13T09:09:31.000Z</td>\n      <td>захар и полина|\"учимся экономить\"|\"копить день...</td>\n      <td>62408</td>\n      <td>334</td>\n      <td>190</td>\n      <td>50</td>\n      <td>https://i.ytimg.com/vi/gDuslQ9avLc/default.jpg</td>\n      <td>False</td>\n      <td>False</td>\n      <td>False</td>\n      <td>Знакомьтесь, это Захар и Полина. Вместе с ними...</td>\n    </tr>\n    <tr>\n      <th>1</th>\n      <td>AOCJIFEA_jE</td>\n      <td>17.14.11</td>\n      <td>Биржа Мемов #29. Большой выпуск</td>\n      <td>Druzhko Show</td>\n      <td>22</td>\n      <td>2017-11-13T17:32:11.000Z</td>\n      <td>биржа мемов|\"лев шагинян\"|\"мемы\"|\"пикчи\"|\"друж...</td>\n      <td>330043</td>\n      <td>43841</td>\n      <td>2244</td>\n      <td>2977</td>\n      <td>https://i.ytimg.com/vi/AOCJIFEA_jE/default.jpg</td>\n      <td>False</td>\n      <td>False</td>\n      <td>False</td>\n      <td>В 29 выпуске Дружко Шоу Сергей сказал, что Бир...</td>\n    </tr>\n    <tr>\n      <th>2</th>\n      <td>VAWNQDgwwOM</td>\n      <td>17.14.11</td>\n      <td>ХАЙП КЭМП - СВОЙ СРЕДИ ЧУЖИХ</td>\n      <td>Юлик</td>\n      <td>24</td>\n      <td>2017-11-13T16:11:31.000Z</td>\n      <td>юмор|\"комедия\"|\"влог\"|\"блог\"|\"смешно\"|\"смешное...</td>\n      <td>424596</td>\n      <td>49854</td>\n      <td>714</td>\n      <td>2944</td>\n      <td>https://i.ytimg.com/vi/VAWNQDgwwOM/default.jpg</td>\n      <td>False</td>\n      <td>False</td>\n      <td>False</td>\n      <td>http://kapitany.ru/!Yulik.cap - Факультет #Кап...</td>\n    </tr>\n    <tr>\n      <th>3</th>\n      <td>gknkFwKQfHg</td>\n      <td>17.14.11</td>\n      <td>Сочная кесадилья с курицей</td>\n      <td>Hochland</td>\n      <td>22</td>\n      <td>2017-11-13T06:51:10.000Z</td>\n      <td>хохланд|\"сыр\"|\"рецепты\"|\"как приготовить\"|\"вку...</td>\n      <td>112851</td>\n      <td>3566</td>\n      <td>122</td>\n      <td>80</td>\n      <td>https://i.ytimg.com/vi/gknkFwKQfHg/default.jpg</td>\n      <td>False</td>\n      <td>False</td>\n      <td>False</td>\n      <td>*** как готовить ресторанные блюда дома</td>\n    </tr>\n    <tr>\n      <th>4</th>\n      <td>3sYvZcwzZr8</td>\n      <td>17.14.11</td>\n      <td>КЛИПЫ РОДИТЕЛЕЙ НА ШКОЛЬНЫЙ ВЫПУСКНОЙ</td>\n      <td>Совергон</td>\n      <td>24</td>\n      <td>2017-11-13T16:52:36.000Z</td>\n      <td>Совергон|\"Sovergon\"|\"клипы\"|\"родители\"|\"школа\"...</td>\n      <td>243469</td>\n      <td>36216</td>\n      <td>631</td>\n      <td>1692</td>\n      <td>https://i.ytimg.com/vi/3sYvZcwzZr8/default.jpg</td>\n      <td>False</td>\n      <td>False</td>\n      <td>False</td>\n      <td>❏ КОНКУРС КАПИТАНЫ: http://kapitany.ru/!Soverg...</td>\n    </tr>\n    <tr>\n      <th>...</th>\n      <td>...</td>\n      <td>...</td>\n      <td>...</td>\n      <td>...</td>\n      <td>...</td>\n      <td>...</td>\n      <td>...</td>\n      <td>...</td>\n      <td>...</td>\n      <td>...</td>\n      <td>...</td>\n      <td>...</td>\n      <td>...</td>\n      <td>...</td>\n      <td>...</td>\n      <td>...</td>\n    </tr>\n    <tr>\n      <th>40734</th>\n      <td>OMmR9THjVKM</td>\n      <td>18.14.06</td>\n      <td>У меня СДВГ! (Story booth на русском) Русская ...</td>\n      <td>Pastime Time</td>\n      <td>22</td>\n      <td>2018-06-13T13:47:01.000Z</td>\n      <td>story booth на русском|\"story booth перевод\"|\"...</td>\n      <td>129488</td>\n      <td>5893</td>\n      <td>164</td>\n      <td>990</td>\n      <td>https://i.ytimg.com/vi/OMmR9THjVKM/default.jpg</td>\n      <td>False</td>\n      <td>False</td>\n      <td>False</td>\n      <td>Котики в Blade and Soul - https://bit.ly/2JoOq...</td>\n    </tr>\n    <tr>\n      <th>40735</th>\n      <td>tX7p7NtNVDE</td>\n      <td>18.14.06</td>\n      <td>Мои Детские Травмы 2 (анимация)</td>\n      <td>CaGArt</td>\n      <td>23</td>\n      <td>2018-06-12T09:38:38.000Z</td>\n      <td>кагарт|\"каги\"|\"цагарт\"|\"гагарт\"|\"какарт\"|\"милш...</td>\n      <td>99163</td>\n      <td>4659</td>\n      <td>337</td>\n      <td>692</td>\n      <td>https://i.ytimg.com/vi/tX7p7NtNVDE/default.jpg</td>\n      <td>False</td>\n      <td>False</td>\n      <td>False</td>\n      <td>Мои Детские Травмы 2 (анимация)           ▶️Ск...</td>\n    </tr>\n    <tr>\n      <th>40736</th>\n      <td>KAyj5Xm1C64</td>\n      <td>18.14.06</td>\n      <td>[ENG SUB] BTS PROM PARTY 2018 Intro + 2nd Gran...</td>\n      <td>DaisyxBTS 07</td>\n      <td>24</td>\n      <td>2018-06-13T12:51:23.000Z</td>\n      <td>[none]</td>\n      <td>449611</td>\n      <td>24808</td>\n      <td>93</td>\n      <td>974</td>\n      <td>https://i.ytimg.com/vi/KAyj5Xm1C64/default.jpg</td>\n      <td>False</td>\n      <td>False</td>\n      <td>False</td>\n      <td>***I do NOT own anything. Just want to share t...</td>\n    </tr>\n    <tr>\n      <th>40737</th>\n      <td>4PiSLIrsSiY</td>\n      <td>18.14.06</td>\n      <td>ОБЗОР ВАННОЙ КОМНАТЫ🛁/ТУАЛЕТНОЙ КОМНАТЫ🚽 + ДЕК...</td>\n      <td>Ксюша Лебедева</td>\n      <td>22</td>\n      <td>2018-06-13T00:23:33.000Z</td>\n      <td>рум тур ванной комнаты|\"room tour bathroom\"|\"д...</td>\n      <td>14225</td>\n      <td>793</td>\n      <td>39</td>\n      <td>209</td>\n      <td>https://i.ytimg.com/vi/4PiSLIrsSiY/default.jpg</td>\n      <td>False</td>\n      <td>False</td>\n      <td>False</td>\n      <td>Обзор ванной комнаты, туалетной комнаты+ декор...</td>\n    </tr>\n    <tr>\n      <th>40738</th>\n      <td>Ehy5foVfKOE</td>\n      <td>18.14.06</td>\n      <td>Плохой сигнал. Стань человеком!</td>\n      <td>Tubus Show</td>\n      <td>29</td>\n      <td>2018-06-13T09:50:09.000Z</td>\n      <td>плохой сигнал|\"тубус шоу\"|\"reebok\"|\"стань чело...</td>\n      <td>52340</td>\n      <td>7708</td>\n      <td>133</td>\n      <td>1819</td>\n      <td>https://i.ytimg.com/vi/Ehy5foVfKOE/default.jpg</td>\n      <td>False</td>\n      <td>False</td>\n      <td>False</td>\n      <td>В 90-х годах прошлого века произошло коренное ...</td>\n    </tr>\n  </tbody>\n</table>\n<p>40739 rows × 16 columns</p>\n</div>"
     },
     "execution_count": 75,
     "metadata": {},
     "output_type": "execute_result"
    }
   ],
   "source": [
    "my_df\n",
    "\n"
   ],
   "metadata": {
    "collapsed": false,
    "pycharm": {
     "name": "#%%\n"
    }
   }
  },
  {
   "cell_type": "code",
   "execution_count": null,
   "outputs": [],
   "source": [
    "\n"
   ],
   "metadata": {
    "collapsed": false,
    "pycharm": {
     "name": "#%%\n"
    }
   }
  }
 ],
 "metadata": {
  "kernelspec": {
   "display_name": "Python 3",
   "language": "python",
   "name": "python3"
  },
  "language_info": {
   "codemirror_mode": {
    "name": "ipython",
    "version": 2
   },
   "file_extension": ".py",
   "mimetype": "text/x-python",
   "name": "python",
   "nbconvert_exporter": "python",
   "pygments_lexer": "ipython2",
   "version": "2.7.6"
  }
 },
 "nbformat": 4,
 "nbformat_minor": 0
}